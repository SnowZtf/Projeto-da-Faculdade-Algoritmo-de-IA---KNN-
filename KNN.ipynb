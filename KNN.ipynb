{
  "nbformat": 4,
  "nbformat_minor": 0,
  "metadata": {
    "colab": {
      "provenance": []
    },
    "kernelspec": {
      "name": "python3",
      "display_name": "Python 3"
    },
    "language_info": {
      "name": "python"
    }
  },
  "cells": [
    {
      "cell_type": "code",
      "execution_count": 67,
      "metadata": {
        "id": "HXc5O0Iq822y"
      },
      "outputs": [],
      "source": [
        "import pandas as pd\n",
        "from sklearn import preprocessing \n",
        "\n",
        "\n",
        "\n",
        "from sklearn.neighbors import KNeighborsClassifier\n",
        "import matplotlib.pyplot as plt\n",
        "\n",
        "d = pd.read_csv('/content/frutasTXT.txt', sep='\\t')\n",
        "\n",
        "d\n",
        "\n",
        "d.drop('fruit_label',axis=1,inplace=True)\n",
        "d.drop('fruit_name',axis=1,inplace=True)\n",
        "display(d)\n",
        "d.describe\n",
        "d.mean()\n",
        "d.head()"
      ]
    },
    {
      "cell_type": "code",
      "source": [
        "from sklearn import preprocessing\n",
        "#criando labelEncoder\n",
        "le = preprocessing.LabelEncoder()\n",
        "fruit_subtype = d['fruit_subtype']\n",
        "fruit_subtype_encoded = le.fit_transform(fruit_subtype)\n",
        "mass = d['mass']\n",
        "mass_encoded = le.fit_transform(mass)\n",
        "\n",
        "carac=list(zip(fruit_subtype_encoded,mass_encoded))\n",
        "carac\n"
      ],
      "metadata": {
        "colab": {
          "base_uri": "https://localhost:8080/"
        },
        "id": "mDB6fSUEczPB",
        "outputId": "fec0653a-ba13-4153-9f6f-d6a0afc72cbd"
      },
      "execution_count": 72,
      "outputs": [
        {
          "output_type": "execute_result",
          "data": {
            "text/plain": [
              "[(3, 30),\n",
              " (3, 27),\n",
              " (3, 25),\n",
              " (4, 3),\n",
              " (4, 2),\n",
              " (4, 1),\n",
              " (4, 1),\n",
              " (4, 0),\n",
              " (0, 26),\n",
              " (0, 23),\n",
              " (0, 20),\n",
              " (0, 23),\n",
              " (0, 14),\n",
              " (2, 19),\n",
              " (2, 13),\n",
              " (2, 15),\n",
              " (2, 15),\n",
              " (2, 21),\n",
              " (1, 18),\n",
              " (1, 18),\n",
              " (1, 17),\n",
              " (1, 15),\n",
              " (1, 9),\n",
              " (1, 22),\n",
              " (7, 37),\n",
              " (7, 38),\n",
              " (7, 39),\n",
              " (5, 34),\n",
              " (5, 9),\n",
              " (5, 17),\n",
              " (5, 16),\n",
              " (5, 35),\n",
              " (5, 19),\n",
              " (8, 29),\n",
              " (8, 10),\n",
              " (8, 12),\n",
              " (8, 17),\n",
              " (8, 14),\n",
              " (8, 16),\n",
              " (8, 11),\n",
              " (8, 14),\n",
              " (8, 27),\n",
              " (8, 14),\n",
              " (6, 31),\n",
              " (6, 33),\n",
              " (6, 28),\n",
              " (6, 36),\n",
              " (6, 32),\n",
              " (6, 24),\n",
              " (9, 8),\n",
              " (9, 7),\n",
              " (9, 4),\n",
              " (9, 5),\n",
              " (9, 6),\n",
              " (9, 4),\n",
              " (9, 4),\n",
              " (9, 4),\n",
              " (9, 13),\n",
              " (9, 5)]"
            ]
          },
          "metadata": {},
          "execution_count": 72
        }
      ]
    },
    {
      "cell_type": "code",
      "source": [
        "from sklearn.neighbors import KNeighborsClassifier\n",
        "modelo = KNeighborsClassifier(n_neighbors=3)\n",
        "# Treinando o modelo usando os ajustes de treinamento.\n",
        "modelo.fit(carac,fruit_subtype_encoded)\n",
        "#Predito\n",
        "predito = modelo.predict([[0,2]]) \n",
        "print(predito)\n",
        "\n",
        "# Ele retornou um limão devido aos testes implementados no modelo"
      ],
      "metadata": {
        "colab": {
          "base_uri": "https://localhost:8080/"
        },
        "id": "5J66mVaRduEJ",
        "outputId": "ba5591fc-710d-4a9d-c80b-25363fdb6cbe"
      },
      "execution_count": 71,
      "outputs": [
        {
          "output_type": "stream",
          "name": "stdout",
          "text": [
            "[4]\n"
          ]
        }
      ]
    }
  ]
}