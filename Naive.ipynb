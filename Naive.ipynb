{
  "nbformat": 4,
  "nbformat_minor": 0,
  "metadata": {
    "colab": {
      "provenance": []
    },
    "kernelspec": {
      "name": "python3",
      "display_name": "Python 3"
    },
    "language_info": {
      "name": "python"
    }
  },
  "cells": [
    {
      "cell_type": "code",
      "execution_count": null,
      "metadata": {
        "id": "EdbivJ_zVI9N"
      },
      "outputs": [],
      "source": [
        "# Dependências \n",
        "\n",
        "from sklearn.naive_bayes import GaussianNB\n",
        "import pandas as pd\n",
        "from sklearn.preprocessing import LabelEncoder\n",
        "import pickle"
      ]
    },
    {
      "cell_type": "code",
      "source": [
        "#Lendo o arquivo e trasnformando em DataFrame\n",
        "d = pd.read_csv('/content/risco_credito.csv')\n",
        "\n",
        "#Definindo as variáveis\n",
        "X_risco_credito = d.iloc[:, 0:4].values\n",
        "y_risco_credito = d.iloc[:, 4].values\n",
        "\n",
        "#Transformando strings em números\n",
        "label_encoder_historia = LabelEncoder()\n",
        "label_encoder_divida = LabelEncoder()\n",
        "label_encoder_garantia = LabelEncoder()\n",
        "label_encoder_renda = LabelEncoder()\n",
        "\n",
        "X_risco_credito[:,0] = label_encoder_historia.fit_transform(X_risco_credito[:,0])\n",
        "X_risco_credito[:,1] = label_encoder_divida.fit_transform(X_risco_credito[:,1])\n",
        "X_risco_credito[:,2] = label_encoder_garantia.fit_transform(X_risco_credito[:,2])\n",
        "X_risco_credito[:,3] = label_encoder_renda.fit_transform(X_risco_credito[:,3])\n",
        "\n",
        "print(X_risco_credito)\n",
        "\n",
        "modelo = GaussianNB()\n",
        "\n",
        "#Treinando o modelo\n",
        "modelo.fit(X_risco_credito,y_risco_credito)\n",
        "\n",
        "#Amostra das prediçoes em três cenários diferentes\n",
        "predito = modelo.predict([[0,0,1,2], [2,0,0,0]])\n",
        "print(predito)\n",
        "\n",
        "\n",
        "predito1 = modelo.predict([[1,2,0,1], [1,1,2,1]])\n",
        "print(predito1)\n",
        "\n",
        "\n",
        "predito2 = modelo.predict([[0,0,0,0], [1,1,1,1]])\n",
        "print(predito2)\n",
        "\n",
        "\n",
        "#Salvando a base de dados em arquivo pkl para futura implementações\n",
        "with open('risco_credito.pkl', 'wb') as f:\n",
        " pickle.dump([X_risco_credito, y_risco_credito], f)\n",
        "\n"
      ],
      "metadata": {
        "colab": {
          "base_uri": "https://localhost:8080/"
        },
        "id": "DcqljPIFWehF",
        "outputId": "7f97660f-4332-40e9-abe5-57b53f6e5d6d"
      },
      "execution_count": 22,
      "outputs": [
        {
          "output_type": "stream",
          "name": "stdout",
          "text": [
            "[[2 0 1 0]\n",
            " [1 0 1 1]\n",
            " [1 1 1 1]\n",
            " [1 1 1 2]\n",
            " [1 1 1 2]\n",
            " [1 1 0 2]\n",
            " [2 1 1 0]\n",
            " [2 1 0 2]\n",
            " [0 1 1 2]\n",
            " [0 0 0 2]\n",
            " [0 0 1 0]\n",
            " [0 0 1 1]\n",
            " [0 0 1 2]\n",
            " [2 0 1 1]]\n",
            "['baixo' 'moderado']\n",
            "['moderado' 'moderado']\n",
            "['moderado' 'alto']\n"
          ]
        }
      ]
    }
  ]
}